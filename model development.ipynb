{
 "cells": [
  {
   "cell_type": "code",
   "execution_count": 1,
   "id": "457f7287",
   "metadata": {},
   "outputs": [],
   "source": [
    "import numpy as np\n",
    "import pandas as pd\n",
    "import matplotlib.pyplot as plt\n",
    "%matplotlib inline"
   ]
  },
  {
   "cell_type": "code",
   "execution_count": 2,
   "id": "925833f9",
   "metadata": {},
   "outputs": [],
   "source": [
    "df=pd.read_csv('Extracted data.csv',index_col='Unnamed: 0')"
   ]
  },
  {
   "cell_type": "code",
   "execution_count": 3,
   "id": "1bb6c7e4",
   "metadata": {},
   "outputs": [
    {
     "data": {
      "text/html": [
       "<div>\n",
       "<style scoped>\n",
       "    .dataframe tbody tr th:only-of-type {\n",
       "        vertical-align: middle;\n",
       "    }\n",
       "\n",
       "    .dataframe tbody tr th {\n",
       "        vertical-align: top;\n",
       "    }\n",
       "\n",
       "    .dataframe thead th {\n",
       "        text-align: right;\n",
       "    }\n",
       "</style>\n",
       "<table border=\"1\" class=\"dataframe\">\n",
       "  <thead>\n",
       "    <tr style=\"text-align: right;\">\n",
       "      <th></th>\n",
       "      <th>Drug</th>\n",
       "      <th>Age</th>\n",
       "      <th>Sex</th>\n",
       "      <th>Condition</th>\n",
       "      <th>Sides</th>\n",
       "    </tr>\n",
       "  </thead>\n",
       "  <tbody>\n",
       "    <tr>\n",
       "      <th>0</th>\n",
       "      <td>25dph-7.5peh</td>\n",
       "      <td>75 or over</td>\n",
       "      <td>Male</td>\n",
       "      <td>Stuffy Nose</td>\n",
       "      <td>Drowsiness,  dizziness ,  dry mouth /nose/thro...</td>\n",
       "    </tr>\n",
       "    <tr>\n",
       "      <th>1</th>\n",
       "      <td>25dph-7.5peh</td>\n",
       "      <td>25-34</td>\n",
       "      <td>Female</td>\n",
       "      <td>Cold Symptoms</td>\n",
       "      <td>Drowsiness,  dizziness ,  dry mouth /nose/thro...</td>\n",
       "    </tr>\n",
       "    <tr>\n",
       "      <th>6</th>\n",
       "      <td>wymzya fe</td>\n",
       "      <td>25-34</td>\n",
       "      <td>Female</td>\n",
       "      <td>Birth Control</td>\n",
       "      <td>Nausea ,  vomiting ,  headache ,  bloating ,  ...</td>\n",
       "    </tr>\n",
       "    <tr>\n",
       "      <th>7</th>\n",
       "      <td>wymzya fe</td>\n",
       "      <td>45-54</td>\n",
       "      <td>Female</td>\n",
       "      <td>Disease of Ovaries with Cysts</td>\n",
       "      <td>Nausea ,  vomiting ,  headache ,  bloating ,  ...</td>\n",
       "    </tr>\n",
       "    <tr>\n",
       "      <th>8</th>\n",
       "      <td>wymzya fe</td>\n",
       "      <td>25-34</td>\n",
       "      <td>Female</td>\n",
       "      <td>Acne</td>\n",
       "      <td>Nausea ,  vomiting ,  headache ,  bloating ,  ...</td>\n",
       "    </tr>\n",
       "    <tr>\n",
       "      <th>9</th>\n",
       "      <td>12 hour nasal relief spray, non-aerosol</td>\n",
       "      <td>55-64</td>\n",
       "      <td>Male</td>\n",
       "      <td>Stuffy Nose</td>\n",
       "      <td>Temporary burning, stinging, dryness in the no...</td>\n",
       "    </tr>\n",
       "    <tr>\n",
       "      <th>13</th>\n",
       "      <td>lyza</td>\n",
       "      <td>19-24</td>\n",
       "      <td>Female</td>\n",
       "      <td>Birth Control</td>\n",
       "      <td>Nausea ,  vomiting ,  headache ,  bloating ,  ...</td>\n",
       "    </tr>\n",
       "    <tr>\n",
       "      <th>16</th>\n",
       "      <td>lyza</td>\n",
       "      <td>25-34</td>\n",
       "      <td>Female</td>\n",
       "      <td>Birth Control</td>\n",
       "      <td>Nausea ,  vomiting ,  headache ,  bloating ,  ...</td>\n",
       "    </tr>\n",
       "    <tr>\n",
       "      <th>18</th>\n",
       "      <td>lyza</td>\n",
       "      <td>25-34</td>\n",
       "      <td>Female</td>\n",
       "      <td>Birth Control</td>\n",
       "      <td>Nausea ,  vomiting ,  headache ,  bloating ,  ...</td>\n",
       "    </tr>\n",
       "    <tr>\n",
       "      <th>19</th>\n",
       "      <td>lyza</td>\n",
       "      <td>25-34</td>\n",
       "      <td>Female</td>\n",
       "      <td>Birth Control</td>\n",
       "      <td>Nausea ,  vomiting ,  headache ,  bloating ,  ...</td>\n",
       "    </tr>\n",
       "    <tr>\n",
       "      <th>21</th>\n",
       "      <td>lyza</td>\n",
       "      <td>25-34</td>\n",
       "      <td>Female</td>\n",
       "      <td>Birth Control</td>\n",
       "      <td>Nausea ,  vomiting ,  headache ,  bloating ,  ...</td>\n",
       "    </tr>\n",
       "    <tr>\n",
       "      <th>23</th>\n",
       "      <td>lyza</td>\n",
       "      <td>25-34</td>\n",
       "      <td>Female</td>\n",
       "      <td>Birth Control</td>\n",
       "      <td>Nausea ,  vomiting ,  headache ,  bloating ,  ...</td>\n",
       "    </tr>\n",
       "    <tr>\n",
       "      <th>25</th>\n",
       "      <td>lyza</td>\n",
       "      <td>25-34</td>\n",
       "      <td>Female</td>\n",
       "      <td>Birth Control</td>\n",
       "      <td>Nausea ,  vomiting ,  headache ,  bloating ,  ...</td>\n",
       "    </tr>\n",
       "    <tr>\n",
       "      <th>26</th>\n",
       "      <td>lyza</td>\n",
       "      <td>35-44</td>\n",
       "      <td>Female</td>\n",
       "      <td>Birth Control</td>\n",
       "      <td>Nausea ,  vomiting ,  headache ,  bloating ,  ...</td>\n",
       "    </tr>\n",
       "    <tr>\n",
       "      <th>27</th>\n",
       "      <td>lyza</td>\n",
       "      <td>35-44</td>\n",
       "      <td>Female</td>\n",
       "      <td>Birth Control</td>\n",
       "      <td>Nausea ,  vomiting ,  headache ,  bloating ,  ...</td>\n",
       "    </tr>\n",
       "  </tbody>\n",
       "</table>\n",
       "</div>"
      ],
      "text/plain": [
       "                                       Drug         Age     Sex  \\\n",
       "0                              25dph-7.5peh  75 or over    Male   \n",
       "1                              25dph-7.5peh       25-34  Female   \n",
       "6                                 wymzya fe       25-34  Female   \n",
       "7                                 wymzya fe       45-54  Female   \n",
       "8                                 wymzya fe       25-34  Female   \n",
       "9   12 hour nasal relief spray, non-aerosol       55-64    Male   \n",
       "13                                     lyza       19-24  Female   \n",
       "16                                     lyza       25-34  Female   \n",
       "18                                     lyza       25-34  Female   \n",
       "19                                     lyza       25-34  Female   \n",
       "21                                     lyza       25-34  Female   \n",
       "23                                     lyza       25-34  Female   \n",
       "25                                     lyza       25-34  Female   \n",
       "26                                     lyza       35-44  Female   \n",
       "27                                     lyza       35-44  Female   \n",
       "\n",
       "                        Condition  \\\n",
       "0                     Stuffy Nose   \n",
       "1                   Cold Symptoms   \n",
       "6                   Birth Control   \n",
       "7   Disease of Ovaries with Cysts   \n",
       "8                            Acne   \n",
       "9                     Stuffy Nose   \n",
       "13                  Birth Control   \n",
       "16                  Birth Control   \n",
       "18                  Birth Control   \n",
       "19                  Birth Control   \n",
       "21                  Birth Control   \n",
       "23                  Birth Control   \n",
       "25                  Birth Control   \n",
       "26                  Birth Control   \n",
       "27                  Birth Control   \n",
       "\n",
       "                                                Sides  \n",
       "0   Drowsiness,  dizziness ,  dry mouth /nose/thro...  \n",
       "1   Drowsiness,  dizziness ,  dry mouth /nose/thro...  \n",
       "6   Nausea ,  vomiting ,  headache ,  bloating ,  ...  \n",
       "7   Nausea ,  vomiting ,  headache ,  bloating ,  ...  \n",
       "8   Nausea ,  vomiting ,  headache ,  bloating ,  ...  \n",
       "9   Temporary burning, stinging, dryness in the no...  \n",
       "13  Nausea ,  vomiting ,  headache ,  bloating ,  ...  \n",
       "16  Nausea ,  vomiting ,  headache ,  bloating ,  ...  \n",
       "18  Nausea ,  vomiting ,  headache ,  bloating ,  ...  \n",
       "19  Nausea ,  vomiting ,  headache ,  bloating ,  ...  \n",
       "21  Nausea ,  vomiting ,  headache ,  bloating ,  ...  \n",
       "23  Nausea ,  vomiting ,  headache ,  bloating ,  ...  \n",
       "25  Nausea ,  vomiting ,  headache ,  bloating ,  ...  \n",
       "26  Nausea ,  vomiting ,  headache ,  bloating ,  ...  \n",
       "27  Nausea ,  vomiting ,  headache ,  bloating ,  ...  "
      ]
     },
     "execution_count": 3,
     "metadata": {},
     "output_type": "execute_result"
    }
   ],
   "source": [
    "df.head(n=15)"
   ]
  },
  {
   "cell_type": "markdown",
   "id": "d7ebcb39",
   "metadata": {},
   "source": [
    "### Handling Missing Value"
   ]
  },
  {
   "cell_type": "markdown",
   "id": "4f05bb06",
   "metadata": {},
   "source": [
    "As I drop missing value rows in previous 'Data extration Notebook',so in this notebook it is not important."
   ]
  },
  {
   "cell_type": "markdown",
   "id": "05c41fab",
   "metadata": {},
   "source": [
    "### Encoding Variable"
   ]
  },
  {
   "cell_type": "code",
   "execution_count": 4,
   "id": "dafa0703",
   "metadata": {},
   "outputs": [],
   "source": [
    "from sklearn.preprocessing import LabelEncoder"
   ]
  },
  {
   "cell_type": "code",
   "execution_count": 5,
   "id": "d68eb63c",
   "metadata": {},
   "outputs": [],
   "source": [
    "Col=['Drug','Age','Sex','Condition','Sides']\n",
    "le = LabelEncoder()\n",
    "df[Col] = df[Col].apply(le.fit_transform)"
   ]
  },
  {
   "cell_type": "code",
   "execution_count": 6,
   "id": "b08a0f41",
   "metadata": {},
   "outputs": [
    {
     "data": {
      "text/html": [
       "<div>\n",
       "<style scoped>\n",
       "    .dataframe tbody tr th:only-of-type {\n",
       "        vertical-align: middle;\n",
       "    }\n",
       "\n",
       "    .dataframe tbody tr th {\n",
       "        vertical-align: top;\n",
       "    }\n",
       "\n",
       "    .dataframe thead th {\n",
       "        text-align: right;\n",
       "    }\n",
       "</style>\n",
       "<table border=\"1\" class=\"dataframe\">\n",
       "  <thead>\n",
       "    <tr style=\"text-align: right;\">\n",
       "      <th></th>\n",
       "      <th>Drug</th>\n",
       "      <th>Age</th>\n",
       "      <th>Sex</th>\n",
       "      <th>Condition</th>\n",
       "      <th>Sides</th>\n",
       "    </tr>\n",
       "  </thead>\n",
       "  <tbody>\n",
       "    <tr>\n",
       "      <th>0</th>\n",
       "      <td>4</td>\n",
       "      <td>10</td>\n",
       "      <td>1</td>\n",
       "      <td>1456</td>\n",
       "      <td>403</td>\n",
       "    </tr>\n",
       "    <tr>\n",
       "      <th>1</th>\n",
       "      <td>4</td>\n",
       "      <td>3</td>\n",
       "      <td>0</td>\n",
       "      <td>394</td>\n",
       "      <td>403</td>\n",
       "    </tr>\n",
       "    <tr>\n",
       "      <th>6</th>\n",
       "      <td>5103</td>\n",
       "      <td>3</td>\n",
       "      <td>0</td>\n",
       "      <td>222</td>\n",
       "      <td>1028</td>\n",
       "    </tr>\n",
       "    <tr>\n",
       "      <th>7</th>\n",
       "      <td>5103</td>\n",
       "      <td>6</td>\n",
       "      <td>0</td>\n",
       "      <td>515</td>\n",
       "      <td>1028</td>\n",
       "    </tr>\n",
       "    <tr>\n",
       "      <th>8</th>\n",
       "      <td>5103</td>\n",
       "      <td>3</td>\n",
       "      <td>0</td>\n",
       "      <td>51</td>\n",
       "      <td>1028</td>\n",
       "    </tr>\n",
       "    <tr>\n",
       "      <th>9</th>\n",
       "      <td>1</td>\n",
       "      <td>7</td>\n",
       "      <td>1</td>\n",
       "      <td>1456</td>\n",
       "      <td>1478</td>\n",
       "    </tr>\n",
       "    <tr>\n",
       "      <th>13</th>\n",
       "      <td>2810</td>\n",
       "      <td>2</td>\n",
       "      <td>0</td>\n",
       "      <td>222</td>\n",
       "      <td>1027</td>\n",
       "    </tr>\n",
       "    <tr>\n",
       "      <th>16</th>\n",
       "      <td>2810</td>\n",
       "      <td>3</td>\n",
       "      <td>0</td>\n",
       "      <td>222</td>\n",
       "      <td>1027</td>\n",
       "    </tr>\n",
       "    <tr>\n",
       "      <th>18</th>\n",
       "      <td>2810</td>\n",
       "      <td>3</td>\n",
       "      <td>0</td>\n",
       "      <td>222</td>\n",
       "      <td>1027</td>\n",
       "    </tr>\n",
       "    <tr>\n",
       "      <th>19</th>\n",
       "      <td>2810</td>\n",
       "      <td>3</td>\n",
       "      <td>0</td>\n",
       "      <td>222</td>\n",
       "      <td>1027</td>\n",
       "    </tr>\n",
       "    <tr>\n",
       "      <th>21</th>\n",
       "      <td>2810</td>\n",
       "      <td>3</td>\n",
       "      <td>0</td>\n",
       "      <td>222</td>\n",
       "      <td>1027</td>\n",
       "    </tr>\n",
       "    <tr>\n",
       "      <th>23</th>\n",
       "      <td>2810</td>\n",
       "      <td>3</td>\n",
       "      <td>0</td>\n",
       "      <td>222</td>\n",
       "      <td>1027</td>\n",
       "    </tr>\n",
       "    <tr>\n",
       "      <th>25</th>\n",
       "      <td>2810</td>\n",
       "      <td>3</td>\n",
       "      <td>0</td>\n",
       "      <td>222</td>\n",
       "      <td>1027</td>\n",
       "    </tr>\n",
       "    <tr>\n",
       "      <th>26</th>\n",
       "      <td>2810</td>\n",
       "      <td>5</td>\n",
       "      <td>0</td>\n",
       "      <td>222</td>\n",
       "      <td>1027</td>\n",
       "    </tr>\n",
       "    <tr>\n",
       "      <th>27</th>\n",
       "      <td>2810</td>\n",
       "      <td>5</td>\n",
       "      <td>0</td>\n",
       "      <td>222</td>\n",
       "      <td>1027</td>\n",
       "    </tr>\n",
       "  </tbody>\n",
       "</table>\n",
       "</div>"
      ],
      "text/plain": [
       "    Drug  Age  Sex  Condition  Sides\n",
       "0      4   10    1       1456    403\n",
       "1      4    3    0        394    403\n",
       "6   5103    3    0        222   1028\n",
       "7   5103    6    0        515   1028\n",
       "8   5103    3    0         51   1028\n",
       "9      1    7    1       1456   1478\n",
       "13  2810    2    0        222   1027\n",
       "16  2810    3    0        222   1027\n",
       "18  2810    3    0        222   1027\n",
       "19  2810    3    0        222   1027\n",
       "21  2810    3    0        222   1027\n",
       "23  2810    3    0        222   1027\n",
       "25  2810    3    0        222   1027\n",
       "26  2810    5    0        222   1027\n",
       "27  2810    5    0        222   1027"
      ]
     },
     "execution_count": 6,
     "metadata": {},
     "output_type": "execute_result"
    }
   ],
   "source": [
    "df.head(n=15)"
   ]
  },
  {
   "cell_type": "code",
   "execution_count": 7,
   "id": "fa206c70",
   "metadata": {},
   "outputs": [],
   "source": [
    "X=df[['Drug','Age','Sex','Condition']]"
   ]
  },
  {
   "cell_type": "code",
   "execution_count": 8,
   "id": "abe06ffc",
   "metadata": {},
   "outputs": [],
   "source": [
    "y=df['Sides']"
   ]
  },
  {
   "cell_type": "markdown",
   "id": "89721d5a",
   "metadata": {},
   "source": [
    "### Splitting the dataset into the Training set and Test set"
   ]
  },
  {
   "cell_type": "code",
   "execution_count": 9,
   "id": "2ad59a09",
   "metadata": {},
   "outputs": [],
   "source": [
    "from sklearn.model_selection import train_test_split\n",
    "X_train, X_test, y_train, y_test = train_test_split(X, y, test_size = 0.3)"
   ]
  },
  {
   "cell_type": "markdown",
   "id": "b03ab1bc",
   "metadata": {},
   "source": [
    "### Importing performance evaluation Library"
   ]
  },
  {
   "cell_type": "code",
   "execution_count": 10,
   "id": "327c53c9",
   "metadata": {},
   "outputs": [],
   "source": [
    "from sklearn.metrics import confusion_matrix,classification_report, accuracy_score"
   ]
  },
  {
   "cell_type": "markdown",
   "id": "7452d4b8",
   "metadata": {},
   "source": [
    "# K-Neareast Neighbour Classification"
   ]
  },
  {
   "cell_type": "code",
   "execution_count": 11,
   "id": "cf2078ba",
   "metadata": {},
   "outputs": [],
   "source": [
    "from sklearn.neighbors import KNeighborsClassifier"
   ]
  },
  {
   "cell_type": "markdown",
   "id": "243dc83a",
   "metadata": {},
   "source": [
    "Apply elbow method to pick a good K Value:"
   ]
  },
  {
   "cell_type": "code",
   "execution_count": 12,
   "id": "44d271bb",
   "metadata": {},
   "outputs": [],
   "source": [
    "error_rate = []\n",
    "\n",
    "# Will take some time\n",
    "for i in range(1,40):\n",
    "    \n",
    "    knn = KNeighborsClassifier(n_neighbors=i)\n",
    "    knn.fit(X_train,y_train)\n",
    "    pred_i = knn.predict(X_test)\n",
    "    error_rate.append(np.mean(pred_i != y_test))"
   ]
  },
  {
   "cell_type": "code",
   "execution_count": 13,
   "id": "c1fe005f",
   "metadata": {},
   "outputs": [
    {
     "data": {
      "text/plain": [
       "Text(0, 0.5, 'Error Rate')"
      ]
     },
     "execution_count": 13,
     "metadata": {},
     "output_type": "execute_result"
    },
    {
     "data": {
      "image/png": "[encoded data removed]",
      "text/plain": [
       "<Figure size 720x432 with 1 Axes>"
      ]
     },
     "metadata": {
      "needs_background": "light"
     },
     "output_type": "display_data"
    }
   ],
   "source": [
    "plt.figure(figsize=(10,6))\n",
    "plt.plot(range(1,40),error_rate,color='blue', linestyle='dashed', marker='o',\n",
    "         markerfacecolor='red', markersize=10)\n",
    "plt.title('Error Rate vs. K Value')\n",
    "plt.xlabel('K')\n",
    "plt.ylabel('Error Rate')"
   ]
  },
  {
   "cell_type": "markdown",
   "id": "c7a67b73",
   "metadata": {},
   "source": [
    "from above plot we clearly see that as K value goes increase, error rate also increas. lets take k value from 1 to 5 "
   ]
  },
  {
   "cell_type": "code",
   "execution_count": 14,
   "id": "b04be9fc",
   "metadata": {},
   "outputs": [
    {
     "name": "stdout",
     "output_type": "stream",
     "text": [
      "WITH K=1\n",
      "\n",
      "\n",
      "[[ 2  0  0 ...  0  0  0]\n",
      " [ 0  7  0 ...  0  0  0]\n",
      " [ 0  0  1 ...  0  0  0]\n",
      " ...\n",
      " [ 0  0  0 ...  3  0  0]\n",
      " [ 0  0  0 ...  0 20  0]\n",
      " [ 0  0  0 ...  0  0 22]]\n",
      "\n",
      "\n",
      "0.9687374580173634\n"
     ]
    }
   ],
   "source": [
    "knn = KNeighborsClassifier(n_neighbors=1)\n",
    "\n",
    "knn.fit(X_train,y_train)\n",
    "pred = knn.predict(X_test)\n",
    "\n",
    "print('WITH K=1')\n",
    "print('\\n')\n",
    "print(confusion_matrix(y_test,pred))\n",
    "print('\\n')\n",
    "print(accuracy_score(y_test,pred))"
   ]
  },
  {
   "cell_type": "code",
   "execution_count": 15,
   "id": "2738ecef",
   "metadata": {},
   "outputs": [
    {
     "name": "stdout",
     "output_type": "stream",
     "text": [
      "WITH K=2\n",
      "\n",
      "\n",
      "[[ 2  0  0 ...  0  0  0]\n",
      " [ 0  0  0 ...  0  0  0]\n",
      " [ 0  0  7 ...  0  0  0]\n",
      " ...\n",
      " [ 0  0  0 ...  3  0  0]\n",
      " [ 0  0  0 ...  0 20  0]\n",
      " [ 0  0  0 ...  0  0 20]]\n",
      "\n",
      "\n",
      "0.9592425170570964\n"
     ]
    }
   ],
   "source": [
    "knn = KNeighborsClassifier(n_neighbors=2)\n",
    "\n",
    "knn.fit(X_train,y_train)\n",
    "pred = knn.predict(X_test)\n",
    "\n",
    "print('WITH K=2')\n",
    "print('\\n')\n",
    "print(confusion_matrix(y_test,pred))\n",
    "print('\\n')\n",
    "print(accuracy_score(y_test,pred))"
   ]
  },
  {
   "cell_type": "code",
   "execution_count": 16,
   "id": "7ad83db7",
   "metadata": {},
   "outputs": [
    {
     "name": "stdout",
     "output_type": "stream",
     "text": [
      "WITH K=3\n",
      "\n",
      "\n",
      "[[ 2  0  0 ...  0  0  0]\n",
      " [ 0  0  0 ...  0  0  0]\n",
      " [ 0  0  6 ...  0  0  0]\n",
      " ...\n",
      " [ 0  0  0 ...  3  0  0]\n",
      " [ 0  0  0 ...  0 20  0]\n",
      " [ 0  0  0 ...  0  0 20]]\n",
      "\n",
      "\n",
      "0.9565387296423818\n"
     ]
    }
   ],
   "source": [
    "knn = KNeighborsClassifier(n_neighbors=3)\n",
    "\n",
    "knn.fit(X_train,y_train)\n",
    "pred = knn.predict(X_test)\n",
    "\n",
    "print('WITH K=3')\n",
    "print('\\n')\n",
    "print(confusion_matrix(y_test,pred))\n",
    "print('\\n')\n",
    "print(accuracy_score(y_test,pred))"
   ]
  },
  {
   "cell_type": "code",
   "execution_count": 17,
   "id": "a512f94e",
   "metadata": {},
   "outputs": [
    {
     "name": "stdout",
     "output_type": "stream",
     "text": [
      "WITH K=4\n",
      "\n",
      "\n",
      "[[ 2  0  0 ...  0  0  0]\n",
      " [ 0  0  0 ...  0  0  0]\n",
      " [ 0  0  6 ...  0  0  0]\n",
      " ...\n",
      " [ 0  0  0 ...  2  0  0]\n",
      " [ 0  0  0 ...  0 19  0]\n",
      " [ 0  0  0 ...  0  0 18]]\n",
      "\n",
      "\n",
      "0.9513529498743162\n"
     ]
    }
   ],
   "source": [
    "knn = KNeighborsClassifier(n_neighbors=4)\n",
    "\n",
    "knn.fit(X_train,y_train)\n",
    "pred = knn.predict(X_test)\n",
    "\n",
    "print('WITH K=4')\n",
    "print('\\n')\n",
    "print(confusion_matrix(y_test,pred))\n",
    "print('\\n')\n",
    "print(accuracy_score(y_test,pred))"
   ]
  },
  {
   "cell_type": "code",
   "execution_count": 18,
   "id": "b4fdd01f",
   "metadata": {},
   "outputs": [
    {
     "name": "stdout",
     "output_type": "stream",
     "text": [
      "WITH K=5\n",
      "\n",
      "\n",
      "[[ 2  0  0 ...  0  0  0]\n",
      " [ 0  6  0 ...  0  0  0]\n",
      " [ 0  0  0 ...  0  0  0]\n",
      " ...\n",
      " [ 0  0  0 ...  2  0  0]\n",
      " [ 0  0  0 ...  0 19  0]\n",
      " [ 0  0  0 ...  0  0 18]]\n",
      "\n",
      "\n",
      "0.9474345704568978\n"
     ]
    }
   ],
   "source": [
    "knn = KNeighborsClassifier(n_neighbors=5)\n",
    "\n",
    "knn.fit(X_train,y_train)\n",
    "pred = knn.predict(X_test)\n",
    "\n",
    "print('WITH K=5')\n",
    "print('\\n')\n",
    "print(confusion_matrix(y_test,pred))\n",
    "print('\\n')\n",
    "print(accuracy_score(y_test,pred))"
   ]
  },
  {
   "cell_type": "markdown",
   "id": "4b5b0330",
   "metadata": {},
   "source": [
    "From all the above result,we clearly see that as k value increases,then the accuracy is start decreaseing."
   ]
  },
  {
   "cell_type": "markdown",
   "id": "be6b835d",
   "metadata": {},
   "source": [
    "# Decision Tree Classification"
   ]
  },
  {
   "cell_type": "markdown",
   "id": "3712c1a6",
   "metadata": {},
   "source": [
    "Normal decision tree"
   ]
  },
  {
   "cell_type": "code",
   "execution_count": 19,
   "id": "40f75b6e",
   "metadata": {},
   "outputs": [],
   "source": [
    "from sklearn.tree import DecisionTreeClassifier\n",
    "dtree = DecisionTreeClassifier()\n",
    "dtree.fit(X_train,y_train)\n",
    "predictions = dtree.predict(X_test)"
   ]
  },
  {
   "cell_type": "code",
   "execution_count": 20,
   "id": "b72cf052",
   "metadata": {},
   "outputs": [
    {
     "name": "stdout",
     "output_type": "stream",
     "text": [
      "\n",
      "\n",
      "[[ 4  0  0 ...  0  0  0]\n",
      " [ 0  0  0 ...  0  0  0]\n",
      " [ 0  0  7 ...  0  0  0]\n",
      " ...\n",
      " [ 0  0  0 ...  0  0  0]\n",
      " [ 0  0  0 ...  0 23  0]\n",
      " [ 0  0  0 ...  0  0 22]]\n",
      "\n",
      "\n",
      "0.9854671426459095\n"
     ]
    }
   ],
   "source": [
    "print('\\n')\n",
    "print(confusion_matrix(y_test,predictions))\n",
    "print('\\n')\n",
    "print(accuracy_score(y_test,predictions))"
   ]
  },
  {
   "cell_type": "markdown",
   "id": "b7101d4d",
   "metadata": {},
   "source": [
    "Decision tree with entropy critersion"
   ]
  },
  {
   "cell_type": "code",
   "execution_count": 21,
   "id": "abdfb931",
   "metadata": {},
   "outputs": [],
   "source": [
    "classifier = DecisionTreeClassifier(criterion = 'entropy')\n",
    "classifier.fit(X_train, y_train)\n",
    "y_pred = classifier.predict(X_test)"
   ]
  },
  {
   "cell_type": "code",
   "execution_count": 22,
   "id": "2bfd2db9",
   "metadata": {},
   "outputs": [
    {
     "name": "stdout",
     "output_type": "stream",
     "text": [
      "\n",
      "\n",
      "[[ 4  0  0 ...  0  0  0]\n",
      " [ 0  7  0 ...  0  0  0]\n",
      " [ 0  0  1 ...  0  0  0]\n",
      " ...\n",
      " [ 0  0  0 ...  0  0  0]\n",
      " [ 0  0  0 ...  0 23  0]\n",
      " [ 0  0  0 ...  0  0 24]]\n",
      "\n",
      "\n",
      "0.9931243530977377\n"
     ]
    }
   ],
   "source": [
    "print('\\n')\n",
    "print(confusion_matrix(y_test,y_pred))\n",
    "print('\\n')\n",
    "print(accuracy_score(y_test,y_pred))"
   ]
  },
  {
   "cell_type": "markdown",
   "id": "52a8663f",
   "metadata": {},
   "source": [
    "# Random Forest Classification"
   ]
  },
  {
   "cell_type": "code",
   "execution_count": 23,
   "id": "97267753",
   "metadata": {},
   "outputs": [
    {
     "data": {
      "text/plain": [
       "RandomForestClassifier(criterion='entropy', n_estimators=5)"
      ]
     },
     "execution_count": 23,
     "metadata": {},
     "output_type": "execute_result"
    }
   ],
   "source": [
    "from sklearn.ensemble import RandomForestClassifier\n",
    "classifier = RandomForestClassifier(n_estimators = 5, criterion = 'entropy')\n",
    "classifier.fit(X_train, y_train)"
   ]
  },
  {
   "cell_type": "code",
   "execution_count": 24,
   "id": "1880773f",
   "metadata": {},
   "outputs": [],
   "source": [
    "y_pred = classifier.predict(X_test)"
   ]
  },
  {
   "cell_type": "code",
   "execution_count": 25,
   "id": "a9eefd95",
   "metadata": {},
   "outputs": [
    {
     "name": "stdout",
     "output_type": "stream",
     "text": [
      "\n",
      "\n",
      "[[ 3  0  0 ...  0  0  0]\n",
      " [ 0  0  0 ...  0  0  0]\n",
      " [ 0  0  6 ...  0  0  0]\n",
      " ...\n",
      " [ 0  0  0 ...  1  0  0]\n",
      " [ 0  0  0 ...  0 19  0]\n",
      " [ 0  0  0 ...  0  0 18]]\n",
      "\n",
      "\n",
      "0.950307344585032\n"
     ]
    }
   ],
   "source": [
    "print('\\n')\n",
    "print(confusion_matrix(y_test,y_pred))\n",
    "print('\\n')\n",
    "print(accuracy_score(y_test,y_pred))"
   ]
  }
 ],
 "metadata": {
  "kernelspec": {
   "display_name": "Python 3 (ipykernel)",
   "language": "python",
   "name": "python3"
  },
  "language_info": {
   "codemirror_mode": {
    "name": "ipython",
    "version": 3
   },
   "file_extension": ".py",
   "mimetype": "text/x-python",
   "name": "python",
   "nbconvert_exporter": "python",
   "pygments_lexer": "ipython3",
   "version": "3.9.7"
  }
 },
 "nbformat": 4,
 "nbformat_minor": 5
}
